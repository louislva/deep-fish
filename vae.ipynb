{
 "cells": [
  {
   "cell_type": "code",
   "execution_count": 3,
   "metadata": {},
   "outputs": [],
   "source": [
    "import torch\n",
    "from torch import nn\n",
    "import numpy as np\n",
    "from matplotlib import pyplot as plt\n",
    "from IPython.display import clear_output\n",
    "import random"
   ]
  },
  {
   "cell_type": "code",
   "execution_count": 625,
   "metadata": {},
   "outputs": [
    {
     "data": {
      "text/plain": [
       "<matplotlib.image.AxesImage at 0x124278550>"
      ]
     },
     "execution_count": 625,
     "metadata": {},
     "output_type": "execute_result"
    },
    {
     "data": {
      "image/png": "[encoded data removed]",
      "text/plain": [
       "<Figure size 432x288 with 1 Axes>"
      ]
     },
     "metadata": {
      "needs_background": "light"
     },
     "output_type": "display_data"
    }
   ],
   "source": [
    "fish_drawings = np.load('data/full_numpy_bitmap_fish.npy').reshape((-1, 28, 28))\n",
    "plt.imshow(fish_drawings[0], interpolation='nearest')\n",
    "#plt.show()"
   ]
  },
  {
   "cell_type": "code",
   "execution_count": 660,
   "metadata": {},
   "outputs": [
    {
     "data": {
      "text/plain": [
       "tensor([[[0.1530, 0.1567, 0.1255, 0.1299, 0.1287, 0.1286, 0.1286, 0.1286,\n",
       "          0.1286, 0.1286, 0.1286, 0.1286, 0.1286, 0.1286, 0.1286, 0.1286,\n",
       "          0.1285, 0.1286, 0.1286, 0.1286, 0.1286, 0.1286, 0.1286, 0.1285,\n",
       "          0.1284, 0.1294, 0.1416, 0.1326],\n",
       "         [0.1426, 0.1308, 0.1242, 0.1329, 0.1327, 0.1328, 0.1327, 0.1327,\n",
       "          0.1327, 0.1327, 0.1327, 0.1327, 0.1327, 0.1327, 0.1327, 0.1327,\n",
       "          0.1327, 0.1327, 0.1327, 0.1327, 0.1327, 0.1327, 0.1327, 0.1329,\n",
       "          0.1303, 0.1264, 0.1512, 0.1580],\n",
       "         [0.1438, 0.1143, 0.1549, 0.1632, 0.1643, 0.1644, 0.1643, 0.1642,\n",
       "          0.1642, 0.1642, 0.1642, 0.1642, 0.1642, 0.1642, 0.1642, 0.1642,\n",
       "          0.1642, 0.1642, 0.1642, 0.1641, 0.1641, 0.1641, 0.1640, 0.1642,\n",
       "          0.1642, 0.1567, 0.1774, 0.2060],\n",
       "         [0.1448, 0.1119, 0.1530, 0.1569, 0.1592, 0.1590, 0.1590, 0.1589,\n",
       "          0.1588, 0.1589, 0.1588, 0.1588, 0.1589, 0.1589, 0.1590, 0.1590,\n",
       "          0.1590, 0.1590, 0.1590, 0.1591, 0.1591, 0.1591, 0.1593, 0.1593,\n",
       "          0.1586, 0.1543, 0.1738, 0.2071],\n",
       "         [0.1443, 0.1131, 0.1533, 0.1577, 0.1630, 0.1626, 0.1627, 0.1626,\n",
       "          0.1625, 0.1625, 0.1625, 0.1625, 0.1626, 0.1626, 0.1627, 0.1628,\n",
       "          0.1627, 0.1627, 0.1627, 0.1627, 0.1627, 0.1628, 0.1630, 0.1631,\n",
       "          0.1625, 0.1570, 0.1776, 0.2100],\n",
       "         [0.1443, 0.1131, 0.1532, 0.1579, 0.1633, 0.1629, 0.1630, 0.1630,\n",
       "          0.1629, 0.1629, 0.1628, 0.1629, 0.1629, 0.1630, 0.1631, 0.1630,\n",
       "          0.1629, 0.1629, 0.1629, 0.1629, 0.1629, 0.1631, 0.1632, 0.1633,\n",
       "          0.1627, 0.1572, 0.1776, 0.2100],\n",
       "         [0.1443, 0.1131, 0.1532, 0.1577, 0.1635, 0.1630, 0.1631, 0.1630,\n",
       "          0.1630, 0.1630, 0.1629, 0.1630, 0.1630, 0.1629, 0.1630, 0.1629,\n",
       "          0.1627, 0.1628, 0.1628, 0.1627, 0.1627, 0.1629, 0.1630, 0.1631,\n",
       "          0.1625, 0.1571, 0.1775, 0.2100],\n",
       "         [0.1443, 0.1131, 0.1532, 0.1578, 0.1637, 0.1632, 0.1633, 0.1633,\n",
       "          0.1632, 0.1632, 0.1630, 0.1631, 0.1631, 0.1631, 0.1630, 0.1629,\n",
       "          0.1627, 0.1628, 0.1628, 0.1627, 0.1627, 0.1628, 0.1629, 0.1631,\n",
       "          0.1625, 0.1571, 0.1774, 0.2100],\n",
       "         [0.1443, 0.1131, 0.1532, 0.1578, 0.1637, 0.1632, 0.1633, 0.1633,\n",
       "          0.1632, 0.1631, 0.1630, 0.1632, 0.1631, 0.1629, 0.1630, 0.1628,\n",
       "          0.1626, 0.1626, 0.1627, 0.1626, 0.1626, 0.1628, 0.1628, 0.1630,\n",
       "          0.1625, 0.1571, 0.1774, 0.2100],\n",
       "         [0.1443, 0.1131, 0.1533, 0.1579, 0.1638, 0.1634, 0.1634, 0.1634,\n",
       "          0.1634, 0.1632, 0.1632, 0.1633, 0.1633, 0.1630, 0.1629, 0.1628,\n",
       "          0.1626, 0.1626, 0.1627, 0.1624, 0.1623, 0.1626, 0.1627, 0.1629,\n",
       "          0.1624, 0.1571, 0.1774, 0.2100],\n",
       "         [0.1443, 0.1131, 0.1533, 0.1580, 0.1639, 0.1634, 0.1634, 0.1633,\n",
       "          0.1633, 0.1631, 0.1632, 0.1632, 0.1631, 0.1629, 0.1628, 0.1627,\n",
       "          0.1626, 0.1626, 0.1626, 0.1624, 0.1623, 0.1626, 0.1627, 0.1629,\n",
       "          0.1624, 0.1571, 0.1774, 0.2100],\n",
       "         [0.1443, 0.1131, 0.1533, 0.1580, 0.1641, 0.1636, 0.1636, 0.1636,\n",
       "          0.1635, 0.1633, 0.1634, 0.1633, 0.1631, 0.1629, 0.1627, 0.1627,\n",
       "          0.1625, 0.1625, 0.1625, 0.1624, 0.1623, 0.1626, 0.1627, 0.1628,\n",
       "          0.1624, 0.1571, 0.1774, 0.2100],\n",
       "         [0.1443, 0.1131, 0.1534, 0.1581, 0.1641, 0.1636, 0.1636, 0.1635,\n",
       "          0.1635, 0.1632, 0.1632, 0.1631, 0.1629, 0.1628, 0.1626, 0.1626,\n",
       "          0.1625, 0.1626, 0.1626, 0.1625, 0.1624, 0.1626, 0.1628, 0.1629,\n",
       "          0.1625, 0.1571, 0.1774, 0.2100],\n",
       "         [0.1443, 0.1132, 0.1534, 0.1580, 0.1639, 0.1634, 0.1634, 0.1633,\n",
       "          0.1632, 0.1631, 0.1630, 0.1630, 0.1626, 0.1626, 0.1624, 0.1625,\n",
       "          0.1625, 0.1625, 0.1627, 0.1625, 0.1625, 0.1626, 0.1628, 0.1629,\n",
       "          0.1625, 0.1571, 0.1774, 0.2100],\n",
       "         [0.1443, 0.1132, 0.1535, 0.1581, 0.1639, 0.1634, 0.1633, 0.1633,\n",
       "          0.1632, 0.1630, 0.1629, 0.1628, 0.1626, 0.1626, 0.1627, 0.1626,\n",
       "          0.1625, 0.1626, 0.1627, 0.1626, 0.1626, 0.1626, 0.1629, 0.1629,\n",
       "          0.1625, 0.1571, 0.1774, 0.2100],\n",
       "         [0.1443, 0.1132, 0.1534, 0.1581, 0.1638, 0.1633, 0.1632, 0.1632,\n",
       "          0.1630, 0.1629, 0.1627, 0.1627, 0.1626, 0.1625, 0.1625, 0.1625,\n",
       "          0.1624, 0.1625, 0.1627, 0.1625, 0.1627, 0.1627, 0.1630, 0.1630,\n",
       "          0.1625, 0.1571, 0.1774, 0.2100],\n",
       "         [0.1443, 0.1132, 0.1534, 0.1580, 0.1637, 0.1632, 0.1633, 0.1632,\n",
       "          0.1631, 0.1630, 0.1628, 0.1628, 0.1627, 0.1627, 0.1625, 0.1625,\n",
       "          0.1625, 0.1625, 0.1627, 0.1625, 0.1627, 0.1628, 0.1631, 0.1630,\n",
       "          0.1626, 0.1571, 0.1774, 0.2100],\n",
       "         [0.1443, 0.1132, 0.1533, 0.1579, 0.1636, 0.1632, 0.1633, 0.1633,\n",
       "          0.1631, 0.1630, 0.1627, 0.1627, 0.1625, 0.1625, 0.1624, 0.1624,\n",
       "          0.1625, 0.1625, 0.1627, 0.1626, 0.1629, 0.1629, 0.1632, 0.1631,\n",
       "          0.1626, 0.1572, 0.1774, 0.2100],\n",
       "         [0.1443, 0.1131, 0.1532, 0.1579, 0.1636, 0.1632, 0.1633, 0.1634,\n",
       "          0.1631, 0.1630, 0.1627, 0.1627, 0.1626, 0.1625, 0.1624, 0.1625,\n",
       "          0.1625, 0.1625, 0.1629, 0.1628, 0.1630, 0.1631, 0.1632, 0.1632,\n",
       "          0.1627, 0.1572, 0.1774, 0.2100],\n",
       "         [0.1443, 0.1132, 0.1533, 0.1580, 0.1637, 0.1633, 0.1634, 0.1634,\n",
       "          0.1631, 0.1631, 0.1628, 0.1629, 0.1628, 0.1628, 0.1628, 0.1629,\n",
       "          0.1630, 0.1630, 0.1632, 0.1629, 0.1631, 0.1632, 0.1633, 0.1632,\n",
       "          0.1627, 0.1572, 0.1775, 0.2100],\n",
       "         [0.1443, 0.1131, 0.1533, 0.1579, 0.1636, 0.1631, 0.1633, 0.1633,\n",
       "          0.1631, 0.1631, 0.1629, 0.1629, 0.1629, 0.1628, 0.1628, 0.1629,\n",
       "          0.1630, 0.1630, 0.1631, 0.1630, 0.1630, 0.1632, 0.1633, 0.1632,\n",
       "          0.1627, 0.1572, 0.1774, 0.2100],\n",
       "         [0.1443, 0.1131, 0.1533, 0.1578, 0.1635, 0.1630, 0.1631, 0.1632,\n",
       "          0.1630, 0.1630, 0.1630, 0.1629, 0.1630, 0.1629, 0.1630, 0.1630,\n",
       "          0.1631, 0.1630, 0.1630, 0.1630, 0.1630, 0.1632, 0.1633, 0.1631,\n",
       "          0.1626, 0.1572, 0.1775, 0.2100],\n",
       "         [0.1443, 0.1131, 0.1531, 0.1577, 0.1635, 0.1630, 0.1632, 0.1632,\n",
       "          0.1630, 0.1630, 0.1630, 0.1630, 0.1630, 0.1630, 0.1630, 0.1631,\n",
       "          0.1631, 0.1631, 0.1631, 0.1631, 0.1632, 0.1632, 0.1635, 0.1635,\n",
       "          0.1629, 0.1575, 0.1776, 0.2101],\n",
       "         [0.1443, 0.1134, 0.1539, 0.1586, 0.1648, 0.1641, 0.1641, 0.1642,\n",
       "          0.1640, 0.1641, 0.1642, 0.1641, 0.1641, 0.1641, 0.1641, 0.1641,\n",
       "          0.1641, 0.1640, 0.1641, 0.1641, 0.1641, 0.1642, 0.1641, 0.1640,\n",
       "          0.1631, 0.1577, 0.1775, 0.2100],\n",
       "         [0.1442, 0.1143, 0.1556, 0.1556, 0.1631, 0.1626, 0.1626, 0.1626,\n",
       "          0.1626, 0.1626, 0.1627, 0.1626, 0.1627, 0.1626, 0.1626, 0.1626,\n",
       "          0.1626, 0.1626, 0.1626, 0.1626, 0.1626, 0.1626, 0.1627, 0.1625,\n",
       "          0.1617, 0.1556, 0.1743, 0.2112],\n",
       "         [0.1414, 0.1063, 0.1470, 0.1425, 0.1486, 0.1483, 0.1484, 0.1484,\n",
       "          0.1483, 0.1483, 0.1484, 0.1483, 0.1484, 0.1483, 0.1483, 0.1483,\n",
       "          0.1483, 0.1483, 0.1484, 0.1484, 0.1483, 0.1484, 0.1483, 0.1484,\n",
       "          0.1502, 0.1490, 0.1688, 0.2098],\n",
       "         [0.1553, 0.1124, 0.1825, 0.1792, 0.1834, 0.1833, 0.1833, 0.1833,\n",
       "          0.1833, 0.1833, 0.1833, 0.1833, 0.1833, 0.1833, 0.1833, 0.1833,\n",
       "          0.1833, 0.1833, 0.1833, 0.1833, 0.1833, 0.1833, 0.1833, 0.1833,\n",
       "          0.1827, 0.1843, 0.1937, 0.2385],\n",
       "         [0.1675, 0.1483, 0.1934, 0.1944, 0.1974, 0.1973, 0.1972, 0.1972,\n",
       "          0.1972, 0.1972, 0.1972, 0.1972, 0.1972, 0.1972, 0.1972, 0.1972,\n",
       "          0.1972, 0.1972, 0.1972, 0.1972, 0.1972, 0.1972, 0.1972, 0.1972,\n",
       "          0.1976, 0.1959, 0.1933, 0.2134]]], grad_fn=<ViewBackward>)"
      ]
     },
     "execution_count": 660,
     "metadata": {},
     "output_type": "execute_result"
    }
   ],
   "source": [
    "class VariationalAutoEncoder(nn.Module):\n",
    "    def __init__(self):\n",
    "        super(VariationalAutoEncoder, self).__init__()\n",
    "        \n",
    "        # input image -> encoding\n",
    "        self.conv1 = nn.Conv2d(1, 8, (3, 3), padding=(1, 1)) # 1x28x28 -> 8x14x14\n",
    "        self.conv2 = nn.Conv2d(8, 8, (3, 3), padding=(1, 1)) # 8x14x14 -> 8x7x7\n",
    "        self.conv3 = nn.Conv2d(8, 16, (3, 3), padding=(1, 1)) # 8x7x7 -> 16x3x3\n",
    "        self.conv4 = nn.Conv2d(16, 32, (3, 3), padding=(1, 1)) # 16x3x3 -> 32x1x1\n",
    "        \n",
    "        self.linear1 = nn.Linear(32, 16)\n",
    "        self.linear2 = nn.Linear(16, 8)\n",
    "        self.linear3 = nn.Linear(8, 4)\n",
    "        \n",
    "        # encoding -> probability distributions\n",
    "        self.linear_mu = nn.Linear(4, 4)\n",
    "        self.linear_log_var = nn.Linear(4, 4)\n",
    "        \n",
    "        # distribution sample -> decoded image\n",
    "        self.uplinear1 = nn.Linear(4, 8)\n",
    "        self.uplinear2 = nn.Linear(8, 16)\n",
    "        self.uplinear3 = nn.Linear(16, 32)\n",
    "        \n",
    "        self.deconv1 = nn.Conv2d(32, 16, (3, 3), padding=(2, 2)) # 1x1x32 -> 4x4x16\n",
    "        self.deconv2 = nn.Conv2d(16, 8, (3, 3), padding=(2, 2)) # 4x4x16 -> 10x10x8\n",
    "        self.deconv3 = nn.Conv2d(8, 8, (3, 3), padding=(2, 2)) # 10x10x8 -> 22x22x8\n",
    "        self.deconv4 = nn.Conv2d(8, 4, (3, 3), padding=(2, 2)) # 22x22x8 -> 24x24x4\n",
    "        self.deconv5 = nn.Conv2d(4, 4, (3, 3), padding=(2, 2)) # 24x24x4 -> 26x26x4\n",
    "        self.deconv6 = nn.Conv2d(4, 1, (3, 3), padding=(2, 2)) # 26x26x4 -> 28x28x4\n",
    "        \n",
    "        # reconstruction loss function parameters\n",
    "        self.log_scale = nn.Parameter(torch.Tensor([0.0]))\n",
    "    \n",
    "    def encode(self, x):\n",
    "        # make sure it's 2d, that there's one channel, and that it's encoded as batch\n",
    "        x = torch.reshape(x, (-1, 1, 28, 28))\n",
    "        \n",
    "        # reduce with conv & pool; 28x28x1 -> 1x1x32\n",
    "        x = self.conv1(x)\n",
    "        x = nn.MaxPool2d((2, 2))(x)\n",
    "        x = nn.LeakyReLU()(x)\n",
    "        \n",
    "        x = self.conv2(x)\n",
    "        x = nn.MaxPool2d((2, 2))(x)\n",
    "        x = nn.LeakyReLU()(x)\n",
    "        \n",
    "        x = self.conv3(x)\n",
    "        x = nn.MaxPool2d((2, 2))(x)\n",
    "        x = nn.LeakyReLU()(x)\n",
    "        \n",
    "        x = self.conv4(x)\n",
    "        x = nn.MaxPool2d((2, 2))(x)\n",
    "        x = nn.LeakyReLU()(x)\n",
    "        \n",
    "        # reduce with fully connected from 2x2x16 (64) -> 16\n",
    "        x = torch.reshape(x, (-1, 32))\n",
    "        \n",
    "        x = self.linear1(x)\n",
    "        x = nn.LeakyReLU()(x)\n",
    "        \n",
    "        x = self.linear2(x)\n",
    "        x = nn.LeakyReLU()(x)\n",
    "        \n",
    "        x = self.linear3(x)\n",
    "        x = nn.LeakyReLU()(x)\n",
    "                \n",
    "        mu = self.linear_mu(x)\n",
    "        log_var = self.linear_log_var(x)\n",
    "\n",
    "        return x, mu, log_var\n",
    "    \n",
    "    def decode(self, x):        \n",
    "        x = self.uplinear1(x)\n",
    "        x = nn.LeakyReLU()(x)\n",
    "        \n",
    "        x = self.uplinear2(x)\n",
    "        x = nn.LeakyReLU()(x)\n",
    "        \n",
    "        x = self.uplinear3(x)\n",
    "        x = nn.LeakyReLU()(x)\n",
    "        \n",
    "        x = torch.reshape(x, (-1, 32, 1, 1))\n",
    "        \n",
    "        x = nn.Upsample(scale_factor=2)(x)\n",
    "        x = self.deconv1(x)\n",
    "        x = nn.LeakyReLU()(x)\n",
    "           \n",
    "        x = nn.Upsample(scale_factor=2)(x)\n",
    "        x = self.deconv2(x)\n",
    "        x = nn.LeakyReLU()(x)\n",
    "        \n",
    "        x = nn.Upsample(scale_factor=2)(x)\n",
    "        x = self.deconv3(x)\n",
    "        x = nn.LeakyReLU()(x)\n",
    "        \n",
    "        x = self.deconv4(x)\n",
    "        x = nn.LeakyReLU()(x)\n",
    "        \n",
    "        x = self.deconv5(x)\n",
    "        x = nn.LeakyReLU()(x)\n",
    "        \n",
    "        x = self.deconv6(x)\n",
    "        x = nn.LeakyReLU()(x)\n",
    "        \n",
    "        return x.reshape((-1, 28, 28))\n",
    "        \n",
    "vae = VariationalAutoEncoder()"
   ]
  },
  {
   "cell_type": "code",
   "execution_count": 682,
   "metadata": {},
   "outputs": [
    {
     "name": "stdout",
     "output_type": "stream",
     "text": [
      "2182/8384\n",
      "Loss: tensor(4356.8955, grad_fn=<MeanBackward0>)\n"
     ]
    },
    {
     "ename": "KeyboardInterrupt",
     "evalue": "",
     "output_type": "error",
     "traceback": [
      "\u001b[0;31m---------------------------------------------------------------------------\u001b[0m",
      "\u001b[0;31mKeyboardInterrupt\u001b[0m                         Traceback (most recent call last)",
      "\u001b[0;32m<ipython-input-682-a857655408ad>\u001b[0m in \u001b[0;36m<module>\u001b[0;34m\u001b[0m\n\u001b[1;32m     61\u001b[0m             \u001b[0mprint\u001b[0m\u001b[0;34m(\u001b[0m\u001b[0;34m'Loss:'\u001b[0m\u001b[0;34m,\u001b[0m \u001b[0mloss\u001b[0m\u001b[0;34m)\u001b[0m\u001b[0;34m\u001b[0m\u001b[0;34m\u001b[0m\u001b[0m\n\u001b[1;32m     62\u001b[0m \u001b[0;34m\u001b[0m\u001b[0m\n\u001b[0;32m---> 63\u001b[0;31m \u001b[0mtrain\u001b[0m\u001b[0;34m(\u001b[0m\u001b[0mvae\u001b[0m\u001b[0;34m,\u001b[0m \u001b[0mfish_drawings\u001b[0m\u001b[0;34m)\u001b[0m\u001b[0;34m\u001b[0m\u001b[0;34m\u001b[0m\u001b[0m\n\u001b[0m",
      "\u001b[0;32m<ipython-input-682-a857655408ad>\u001b[0m in \u001b[0;36mtrain\u001b[0;34m(model, data)\u001b[0m\n\u001b[1;32m     34\u001b[0m             \u001b[0mx\u001b[0m \u001b[0;34m=\u001b[0m \u001b[0mtorch\u001b[0m\u001b[0;34m.\u001b[0m\u001b[0mfrom_numpy\u001b[0m\u001b[0;34m(\u001b[0m\u001b[0mbatch\u001b[0m\u001b[0;34m)\u001b[0m\u001b[0;34m.\u001b[0m\u001b[0mfloat\u001b[0m\u001b[0;34m(\u001b[0m\u001b[0;34m)\u001b[0m\u001b[0;34m\u001b[0m\u001b[0;34m\u001b[0m\u001b[0m\n\u001b[1;32m     35\u001b[0m \u001b[0;34m\u001b[0m\u001b[0m\n\u001b[0;32m---> 36\u001b[0;31m             \u001b[0m_\u001b[0m\u001b[0;34m,\u001b[0m \u001b[0mmu\u001b[0m\u001b[0;34m,\u001b[0m \u001b[0mlog_var\u001b[0m \u001b[0;34m=\u001b[0m \u001b[0mvae\u001b[0m\u001b[0;34m.\u001b[0m\u001b[0mencode\u001b[0m\u001b[0;34m(\u001b[0m\u001b[0mx\u001b[0m\u001b[0;34m)\u001b[0m\u001b[0;34m\u001b[0m\u001b[0;34m\u001b[0m\u001b[0m\n\u001b[0m\u001b[1;32m     37\u001b[0m             \u001b[0mvar\u001b[0m \u001b[0;34m=\u001b[0m \u001b[0mtorch\u001b[0m\u001b[0;34m.\u001b[0m\u001b[0mexp\u001b[0m\u001b[0;34m(\u001b[0m\u001b[0mlog_var\u001b[0m \u001b[0;34m/\u001b[0m \u001b[0;36m2\u001b[0m\u001b[0;34m)\u001b[0m\u001b[0;34m\u001b[0m\u001b[0;34m\u001b[0m\u001b[0m\n\u001b[1;32m     38\u001b[0m \u001b[0;34m\u001b[0m\u001b[0m\n",
      "\u001b[0;32m<ipython-input-660-2aac359b4282>\u001b[0m in \u001b[0;36mencode\u001b[0;34m(self, x)\u001b[0m\n\u001b[1;32m     45\u001b[0m         \u001b[0;31m# reduce with conv & pool; 28x28x1 -> 1x1x32\u001b[0m\u001b[0;34m\u001b[0m\u001b[0;34m\u001b[0m\u001b[0;34m\u001b[0m\u001b[0m\n\u001b[1;32m     46\u001b[0m         \u001b[0mx\u001b[0m \u001b[0;34m=\u001b[0m \u001b[0mself\u001b[0m\u001b[0;34m.\u001b[0m\u001b[0mconv1\u001b[0m\u001b[0;34m(\u001b[0m\u001b[0mx\u001b[0m\u001b[0;34m)\u001b[0m\u001b[0;34m\u001b[0m\u001b[0;34m\u001b[0m\u001b[0m\n\u001b[0;32m---> 47\u001b[0;31m         \u001b[0mx\u001b[0m \u001b[0;34m=\u001b[0m \u001b[0mnn\u001b[0m\u001b[0;34m.\u001b[0m\u001b[0mMaxPool2d\u001b[0m\u001b[0;34m(\u001b[0m\u001b[0;34m(\u001b[0m\u001b[0;36m2\u001b[0m\u001b[0;34m,\u001b[0m \u001b[0;36m2\u001b[0m\u001b[0;34m)\u001b[0m\u001b[0;34m)\u001b[0m\u001b[0;34m(\u001b[0m\u001b[0mx\u001b[0m\u001b[0;34m)\u001b[0m\u001b[0;34m\u001b[0m\u001b[0;34m\u001b[0m\u001b[0m\n\u001b[0m\u001b[1;32m     48\u001b[0m         \u001b[0mx\u001b[0m \u001b[0;34m=\u001b[0m \u001b[0mnn\u001b[0m\u001b[0;34m.\u001b[0m\u001b[0mLeakyReLU\u001b[0m\u001b[0;34m(\u001b[0m\u001b[0;34m)\u001b[0m\u001b[0;34m(\u001b[0m\u001b[0mx\u001b[0m\u001b[0;34m)\u001b[0m\u001b[0;34m\u001b[0m\u001b[0;34m\u001b[0m\u001b[0m\n\u001b[1;32m     49\u001b[0m \u001b[0;34m\u001b[0m\u001b[0m\n",
      "\u001b[0;32m/usr/local/lib/python3.8/site-packages/torch/nn/modules/module.py\u001b[0m in \u001b[0;36m_call_impl\u001b[0;34m(self, *input, **kwargs)\u001b[0m\n\u001b[1;32m    720\u001b[0m             \u001b[0mresult\u001b[0m \u001b[0;34m=\u001b[0m \u001b[0mself\u001b[0m\u001b[0;34m.\u001b[0m\u001b[0m_slow_forward\u001b[0m\u001b[0;34m(\u001b[0m\u001b[0;34m*\u001b[0m\u001b[0minput\u001b[0m\u001b[0;34m,\u001b[0m \u001b[0;34m**\u001b[0m\u001b[0mkwargs\u001b[0m\u001b[0;34m)\u001b[0m\u001b[0;34m\u001b[0m\u001b[0;34m\u001b[0m\u001b[0m\n\u001b[1;32m    721\u001b[0m         \u001b[0;32melse\u001b[0m\u001b[0;34m:\u001b[0m\u001b[0;34m\u001b[0m\u001b[0;34m\u001b[0m\u001b[0m\n\u001b[0;32m--> 722\u001b[0;31m             \u001b[0mresult\u001b[0m \u001b[0;34m=\u001b[0m \u001b[0mself\u001b[0m\u001b[0;34m.\u001b[0m\u001b[0mforward\u001b[0m\u001b[0;34m(\u001b[0m\u001b[0;34m*\u001b[0m\u001b[0minput\u001b[0m\u001b[0;34m,\u001b[0m \u001b[0;34m**\u001b[0m\u001b[0mkwargs\u001b[0m\u001b[0;34m)\u001b[0m\u001b[0;34m\u001b[0m\u001b[0;34m\u001b[0m\u001b[0m\n\u001b[0m\u001b[1;32m    723\u001b[0m         for hook in itertools.chain(\n\u001b[1;32m    724\u001b[0m                 \u001b[0m_global_forward_hooks\u001b[0m\u001b[0;34m.\u001b[0m\u001b[0mvalues\u001b[0m\u001b[0;34m(\u001b[0m\u001b[0;34m)\u001b[0m\u001b[0;34m,\u001b[0m\u001b[0;34m\u001b[0m\u001b[0;34m\u001b[0m\u001b[0m\n",
      "\u001b[0;32m/usr/local/lib/python3.8/site-packages/torch/nn/modules/pooling.py\u001b[0m in \u001b[0;36mforward\u001b[0;34m(self, input)\u001b[0m\n\u001b[1;32m    155\u001b[0m \u001b[0;34m\u001b[0m\u001b[0m\n\u001b[1;32m    156\u001b[0m     \u001b[0;32mdef\u001b[0m \u001b[0mforward\u001b[0m\u001b[0;34m(\u001b[0m\u001b[0mself\u001b[0m\u001b[0;34m,\u001b[0m \u001b[0minput\u001b[0m\u001b[0;34m:\u001b[0m \u001b[0mTensor\u001b[0m\u001b[0;34m)\u001b[0m \u001b[0;34m->\u001b[0m \u001b[0mTensor\u001b[0m\u001b[0;34m:\u001b[0m\u001b[0;34m\u001b[0m\u001b[0;34m\u001b[0m\u001b[0m\n\u001b[0;32m--> 157\u001b[0;31m         return F.max_pool2d(input, self.kernel_size, self.stride,\n\u001b[0m\u001b[1;32m    158\u001b[0m                             \u001b[0mself\u001b[0m\u001b[0;34m.\u001b[0m\u001b[0mpadding\u001b[0m\u001b[0;34m,\u001b[0m \u001b[0mself\u001b[0m\u001b[0;34m.\u001b[0m\u001b[0mdilation\u001b[0m\u001b[0;34m,\u001b[0m \u001b[0mself\u001b[0m\u001b[0;34m.\u001b[0m\u001b[0mceil_mode\u001b[0m\u001b[0;34m,\u001b[0m\u001b[0;34m\u001b[0m\u001b[0;34m\u001b[0m\u001b[0m\n\u001b[1;32m    159\u001b[0m                             self.return_indices)\n",
      "\u001b[0;32m/usr/local/lib/python3.8/site-packages/torch/_jit_internal.py\u001b[0m in \u001b[0;36mfn\u001b[0;34m(*args, **kwargs)\u001b[0m\n\u001b[1;32m    245\u001b[0m             \u001b[0;32mreturn\u001b[0m \u001b[0mif_true\u001b[0m\u001b[0;34m(\u001b[0m\u001b[0;34m*\u001b[0m\u001b[0margs\u001b[0m\u001b[0;34m,\u001b[0m \u001b[0;34m**\u001b[0m\u001b[0mkwargs\u001b[0m\u001b[0;34m)\u001b[0m\u001b[0;34m\u001b[0m\u001b[0;34m\u001b[0m\u001b[0m\n\u001b[1;32m    246\u001b[0m         \u001b[0;32melse\u001b[0m\u001b[0;34m:\u001b[0m\u001b[0;34m\u001b[0m\u001b[0;34m\u001b[0m\u001b[0m\n\u001b[0;32m--> 247\u001b[0;31m             \u001b[0;32mreturn\u001b[0m \u001b[0mif_false\u001b[0m\u001b[0;34m(\u001b[0m\u001b[0;34m*\u001b[0m\u001b[0margs\u001b[0m\u001b[0;34m,\u001b[0m \u001b[0;34m**\u001b[0m\u001b[0mkwargs\u001b[0m\u001b[0;34m)\u001b[0m\u001b[0;34m\u001b[0m\u001b[0;34m\u001b[0m\u001b[0m\n\u001b[0m\u001b[1;32m    248\u001b[0m \u001b[0;34m\u001b[0m\u001b[0m\n\u001b[1;32m    249\u001b[0m     \u001b[0;32mif\u001b[0m \u001b[0mif_true\u001b[0m\u001b[0;34m.\u001b[0m\u001b[0m__doc__\u001b[0m \u001b[0;32mis\u001b[0m \u001b[0;32mNone\u001b[0m \u001b[0;32mand\u001b[0m \u001b[0mif_false\u001b[0m\u001b[0;34m.\u001b[0m\u001b[0m__doc__\u001b[0m \u001b[0;32mis\u001b[0m \u001b[0;32mnot\u001b[0m \u001b[0;32mNone\u001b[0m\u001b[0;34m:\u001b[0m\u001b[0;34m\u001b[0m\u001b[0;34m\u001b[0m\u001b[0m\n",
      "\u001b[0;32m/usr/local/lib/python3.8/site-packages/torch/nn/functional.py\u001b[0m in \u001b[0;36m_max_pool2d\u001b[0;34m(input, kernel_size, stride, padding, dilation, ceil_mode, return_indices)\u001b[0m\n\u001b[1;32m    573\u001b[0m     \u001b[0;32mif\u001b[0m \u001b[0mstride\u001b[0m \u001b[0;32mis\u001b[0m \u001b[0;32mNone\u001b[0m\u001b[0;34m:\u001b[0m\u001b[0;34m\u001b[0m\u001b[0;34m\u001b[0m\u001b[0m\n\u001b[1;32m    574\u001b[0m         \u001b[0mstride\u001b[0m \u001b[0;34m=\u001b[0m \u001b[0mtorch\u001b[0m\u001b[0;34m.\u001b[0m\u001b[0mjit\u001b[0m\u001b[0;34m.\u001b[0m\u001b[0mannotate\u001b[0m\u001b[0;34m(\u001b[0m\u001b[0mList\u001b[0m\u001b[0;34m[\u001b[0m\u001b[0mint\u001b[0m\u001b[0;34m]\u001b[0m\u001b[0;34m,\u001b[0m \u001b[0;34m[\u001b[0m\u001b[0;34m]\u001b[0m\u001b[0;34m)\u001b[0m\u001b[0;34m\u001b[0m\u001b[0;34m\u001b[0m\u001b[0m\n\u001b[0;32m--> 575\u001b[0;31m     return torch.max_pool2d(\n\u001b[0m\u001b[1;32m    576\u001b[0m         input, kernel_size, stride, padding, dilation, ceil_mode)\n\u001b[1;32m    577\u001b[0m \u001b[0;34m\u001b[0m\u001b[0m\n",
      "\u001b[0;31mKeyboardInterrupt\u001b[0m: "
     ]
    }
   ],
   "source": [
    "def normal_probability(mean, scale, sample):\n",
    "    normal_dist = torch.distributions.normal.Normal(mean, scale, validate_args=True)\n",
    "    log_prob = normal_dist.log_prob(sample + 0.1)\n",
    "    \n",
    "    return torch.sum(log_prob, dim=(2, 1))\n",
    "\n",
    "def kl_divergence(mu, var, z):\n",
    "    # for z, how much less likely is it that it came from mu = 0 and var = 1 than the current mu and var?\n",
    "    p = torch.distributions.Normal(torch.zeros_like(mu), torch.ones_like(var))\n",
    "    q = torch.distributions.Normal(mu, var)\n",
    "    \n",
    "    log_prob_qz = q.log_prob(z)\n",
    "    log_prob_pz = p.log_prob(z)\n",
    "    \n",
    "    kl = log_prob_qz - log_prob_pz\n",
    "    kl = kl.sum(-1)\n",
    "    return kl\n",
    "    \n",
    "\n",
    "def train(model, data):\n",
    "    epoch_count = 8\n",
    "    batch_size = 16\n",
    "    \n",
    "    optimizer = torch.optim.Adam(model.parameters(), lr=0.001)\n",
    "        \n",
    "    for epoch_index in range(epoch_count):\n",
    "        batch_count = len(data) // batch_size\n",
    "\n",
    "        \n",
    "        for batch_index in range(batch_count):\n",
    "            batch = data[np.random.randint(0, len(data) - 1, (batch_size,))]\n",
    "            x = torch.from_numpy(batch).float()\n",
    "            \n",
    "            _, mu, log_var = vae.encode(x)\n",
    "            var = torch.exp(log_var / 2)\n",
    "            \n",
    "            # create q distribution from our mean and variance that come from a learned relation to encoding\n",
    "            q = torch.distributions.Normal(mu, var)\n",
    "            z = q.rsample()\n",
    "            \n",
    "            # now decode our distribution sample, z; this should reconstruct the x, so this is x hat\n",
    "            x_ = vae.decode(z)\n",
    "            \n",
    "            # probability of x given x_; found by calculating x pixel probability given x_ as mean and exp(vae.log_scale) as variance\n",
    "            reconstruction_loss = normal_probability(x_, torch.exp(vae.log_scale), x) \n",
    "            \n",
    "            # q should approach Normal(0, 1)\n",
    "            kl_divergence_loss = kl_divergence(mu, var, z)\n",
    "            \n",
    "            clear_output(wait=True)\n",
    "            \n",
    "            loss = (kl_divergence_loss - reconstruction_loss).mean()\n",
    "                        \n",
    "            optimizer.zero_grad()\n",
    "            loss.backward()\n",
    "            optimizer.step()\n",
    "            \n",
    "            print(str(batch_index) + '/' + str(batch_count))\n",
    "            print('Loss:', loss)\n",
    "    \n",
    "train(vae, fish_drawings)"
   ]
  },
  {
   "cell_type": "code",
   "execution_count": 696,
   "metadata": {},
   "outputs": [
    {
     "data": {
      "image/png": "[encoded data removed]",
      "text/plain": [
       "<Figure size 432x288 with 1 Axes>"
      ]
     },
     "metadata": {
      "needs_background": "light"
     },
     "output_type": "display_data"
    }
   ],
   "source": [
    "def imagine(model, z):     \n",
    "    y = vae.decode(z).reshape((-1, 28, 28))\n",
    "       \n",
    "    plt.imshow(y.detach().numpy().reshape((28,28)), interpolation='nearest')\n",
    "    \n",
    "def random_imagination(model):     \n",
    "    q = torch.distributions.Normal(torch.zeros((1, 4)), torch.ones((1, 4)))\n",
    "    z = q.sample()\n",
    "\n",
    "    imagine(model, z)\n",
    "    \n",
    "random_imagination(vae)"
   ]
  },
  {
   "cell_type": "code",
   "execution_count": 698,
   "metadata": {},
   "outputs": [
    {
     "data": {
      "application/vnd.jupyter.widget-view+json": {
       "model_id": "115833f44a6a4283b0c488de28bf3d31",
       "version_major": 2,
       "version_minor": 0
      },
      "text/plain": [
       "interactive(children=(FloatSlider(value=0.0, description='a', max=2.0, min=-2.0, step=0.25), FloatSlider(value…"
      ]
     },
     "metadata": {},
     "output_type": "display_data"
    },
    {
     "data": {
      "text/plain": [
       "<function __main__.imagine_with_sliders(a, b, c, d)>"
      ]
     },
     "execution_count": 698,
     "metadata": {},
     "output_type": "execute_result"
    }
   ],
   "source": [
    "from ipywidgets import interact, interactive, fixed, interact_manual, FloatSlider\n",
    "import ipywidgets as widgets\n",
    "\n",
    "def imagine_with_sliders(a,b,c,d):\n",
    "    print(a,b,c,d)\n",
    "    imagine(vae, torch.tensor([a,b,c,d]).float())\n",
    "    \n",
    "interact(\n",
    "    imagine_with_sliders,\n",
    "    a=FloatSlider(min=-2, max=2, step=0.25),\n",
    "    b=FloatSlider(min=-2, max=2, step=0.25),\n",
    "    c=FloatSlider(min=-2, max=2, step=0.25),\n",
    "    d=FloatSlider(min=-2, max=2, step=0.25)\n",
    ")"
   ]
  },
  {
   "cell_type": "code",
   "execution_count": 700,
   "metadata": {},
   "outputs": [],
   "source": [
    "torch.save(vae.state_dict, './vae_state_dict')"
   ]
  }
 ],
 "metadata": {
  "kernelspec": {
   "display_name": "Python 3",
   "language": "python",
   "name": "python3"
  },
  "language_info": {
   "codemirror_mode": {
    "name": "ipython",
    "version": 3
   },
   "file_extension": ".py",
   "mimetype": "text/x-python",
   "name": "python",
   "nbconvert_exporter": "python",
   "pygments_lexer": "ipython3",
   "version": "3.8.5"
  }
 },
 "nbformat": 4,
 "nbformat_minor": 4
}
