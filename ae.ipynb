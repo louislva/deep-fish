{
 "cells": [
  {
   "cell_type": "code",
   "execution_count": 267,
   "metadata": {},
   "outputs": [],
   "source": [
    "import torch\n",
    "from torch import nn\n",
    "import numpy as np\n",
    "from matplotlib import pyplot as plt\n",
    "from IPython.display import clear_output\n",
    "import random"
   ]
  },
  {
   "cell_type": "code",
   "execution_count": 18,
   "metadata": {},
   "outputs": [
    {
     "data": {
      "image/png": "[encoded data removed]",
      "text/plain": [
       "<Figure size 432x288 with 1 Axes>"
      ]
     },
     "metadata": {
      "needs_background": "light"
     },
     "output_type": "display_data"
    }
   ],
   "source": [
    "fish_drawings = np.load('data/full_numpy_bitmap_fish.npy').reshape((-1, 28, 28))\n",
    "plt.imshow(fish_drawings[0], interpolation='nearest')\n",
    "plt.show()"
   ]
  },
  {
   "cell_type": "code",
   "execution_count": 292,
   "metadata": {},
   "outputs": [],
   "source": [
    "class AutoEncoder(nn.Module):\n",
    "    def __init__(self):\n",
    "        super(AutoEncoder, self).__init__()\n",
    "        \n",
    "        self.conv1 = nn.Conv2d(1, 8, (3, 3), padding=(1, 1)) # 1x28x28 -> 8x14x14\n",
    "        self.conv2 = nn.Conv2d(8, 8, (3, 3), padding=(1, 1)) # 8x14x14 -> 8x7x7\n",
    "        self.conv3 = nn.Conv2d(8, 16, (3, 3)) # 8x7x7 -> 16x2x2\n",
    "        \n",
    "        self.linear1 = nn.Linear(64, 48)\n",
    "        self.linear2 = nn.Linear(48, 32)\n",
    "        self.linear3 = nn.Linear(32, 24)\n",
    "        \n",
    "        self.uplinear1 = nn.Linear(24, 32)\n",
    "        self.uplinear2 = nn.Linear(32, 48)\n",
    "        self.uplinear3 = nn.Linear(48, 64)\n",
    "        \n",
    "        self.deconv1 = nn.Conv2d(16, 8, (3, 3), padding=(2, 2)) # 2x2x16 -> 6x6x8\n",
    "        self.deconv2 = nn.Conv2d(8, 8, (3, 3), padding=(2, 2)) # 6x6x8 -> 12x12x8\n",
    "        self.deconv3 = nn.Conv2d(8, 1, (3, 3), padding=(1, 1)) # 12x12x8 -> 28x28x1\n",
    "        \n",
    "        \n",
    "    def forward(self, x):\n",
    "        x, (pool1_indicies, pool2_indicies, pool3_indicies) = self.encode(x)\n",
    "        x = self.decode(x, (pool1_indicies, pool2_indicies, pool3_indicies))\n",
    "        \n",
    "        return x\n",
    "    \n",
    "    def encode(self, x):\n",
    "        # make sure it's 2d, that there's one channel, and that it's encoded as batch\n",
    "        x = torch.reshape(x, (-1, 1, 28, 28))\n",
    "        \n",
    "        # reduce with conv & pool; 28x28x1 -> 2x2x8\n",
    "        x = self.conv1(x)\n",
    "        x, pool1_indicies = nn.MaxPool2d((2, 2), return_indices=True)(x)\n",
    "        x = nn.LeakyReLU()(x)\n",
    "        \n",
    "        x = self.conv2(x)\n",
    "        x, pool2_indicies = nn.MaxPool2d((2, 2), return_indices=True)(x)\n",
    "        x = nn.LeakyReLU()(x)\n",
    "        \n",
    "        x = self.conv3(x)\n",
    "        x, pool3_indicies = nn.MaxPool2d((2, 2), return_indices=True)(x)\n",
    "        x = nn.LeakyReLU()(x)\n",
    "        \n",
    "        # reduce with fully connected from 2x2x16 (64) -> 16\n",
    "        x = torch.reshape(x, (-1, 64))\n",
    "        \n",
    "        x = self.linear1(x)\n",
    "        x = nn.LeakyReLU()(x)\n",
    "        \n",
    "        x = self.linear2(x)\n",
    "        x = nn.LeakyReLU()(x)\n",
    "        \n",
    "        x = self.linear3(x)\n",
    "        x = nn.LeakyReLU()(x)\n",
    "        \n",
    "        return x, (pool1_indicies, pool2_indicies, pool3_indicies)\n",
    "    \n",
    "    def decode(self, x, pool_indicies):\n",
    "        # currently trying WITHOUT unpooling; just upsampling\n",
    "        #(pool1_indicies, pool2_indicies, pool3_indicies) = pool_indicies\n",
    "        \n",
    "        #nn.Upsample(scale_factor=2, mode='nearest')\n",
    "        \n",
    "        #print(pool1_indicies)\n",
    "        \n",
    "        x = self.uplinear1(x)\n",
    "        x = nn.LeakyReLU()(x)\n",
    "        \n",
    "        x = self.uplinear2(x)\n",
    "        x = nn.LeakyReLU()(x)\n",
    "        \n",
    "        x = self.uplinear3(x)\n",
    "        x = nn.LeakyReLU()(x)\n",
    "        \n",
    "        x = torch.reshape(x, (-1, 16, 2, 2))\n",
    "        \n",
    "        x = nn.Upsample(scale_factor=2)(x)\n",
    "        x = self.deconv1(x)\n",
    "        x = nn.LeakyReLU()(x)\n",
    "           \n",
    "        x = nn.Upsample(scale_factor=2)(x)\n",
    "        x = self.deconv2(x)\n",
    "        x = nn.LeakyReLU()(x)\n",
    "        \n",
    "        x = nn.Upsample(scale_factor=2)(x)\n",
    "        x = self.deconv3(x)\n",
    "        x = nn.LeakyReLU()(x)\n",
    "        \n",
    "        return x\n",
    "        \n",
    "    \n",
    "ae = AutoEncoder()"
   ]
  },
  {
   "cell_type": "code",
   "execution_count": 293,
   "metadata": {},
   "outputs": [
    {
     "name": "stdout",
     "output_type": "stream",
     "text": [
      "8383/8384\n",
      "Loss: 2840.552734375\n"
     ]
    }
   ],
   "source": [
    "def train_auto_encoder(model, data):\n",
    "    epoch_count = 1\n",
    "    batch_size = 16\n",
    "    \n",
    "    optimizer = torch.optim.Adam(model.parameters(), lr=0.001)\n",
    "        \n",
    "    for epoch_index in range(epoch_count):\n",
    "        batch_count = len(data) // batch_size\n",
    "\n",
    "        \n",
    "        for batch_index in range(batch_count):\n",
    "            batch = data[np.random.randint(0, len(data) - 1, (batch_size,))]\n",
    "            print('batch', batch.shape)\n",
    "            x = torch.from_numpy(batch).float()\n",
    "            y = ae(x).reshape((-1, 28, 28))\n",
    "            \n",
    "            optimizer.zero_grad()\n",
    "            loss = nn.MSELoss()(x, y)\n",
    "            loss.backward()\n",
    "            optimizer.step()\n",
    "            \n",
    "            clear_output(wait=True)\n",
    "            print(str(batch_index) + '/' + str(batch_count))\n",
    "            print('Loss:', loss.item())\n",
    "    \n",
    "train_auto_encoder(ae, fish_drawings)"
   ]
  },
  {
   "cell_type": "code",
   "execution_count": 312,
   "metadata": {},
   "outputs": [
    {
     "name": "stdout",
     "output_type": "stream",
     "text": [
      "ORIGINAL\n"
     ]
    },
    {
     "data": {
      "image/png": "[encoded data removed]",
      "text/plain": [
       "<Figure size 432x288 with 1 Axes>"
      ]
     },
     "metadata": {
      "needs_background": "light"
     },
     "output_type": "display_data"
    },
    {
     "name": "stdout",
     "output_type": "stream",
     "text": [
      "RECONSTRUCTION\n"
     ]
    },
    {
     "data": {
      "image/png": "[encoded data removed]",
      "text/plain": [
       "<Figure size 432x288 with 1 Axes>"
      ]
     },
     "metadata": {
      "needs_background": "light"
     },
     "output_type": "display_data"
    }
   ],
   "source": [
    "def random_example(model, data):\n",
    "    original = data[random.randrange(0, len(data))]\n",
    "    \n",
    "    x = torch.from_numpy(original).float()\n",
    "    y = ae(x).reshape((-1, 28, 28))\n",
    "    \n",
    "    print('ORIGINAL')\n",
    "    plt.imshow(x, interpolation='nearest')\n",
    "    plt.show()\n",
    "    \n",
    "    print('RECONSTRUCTION')\n",
    "    plt.imshow(y.detach().numpy().reshape((28,28)), interpolation='nearest')\n",
    "    plt.show()\n",
    "    \n",
    "random_example(ae, fish_drawings)"
   ]
  }
 ],
 "metadata": {
  "kernelspec": {
   "display_name": "Python 3",
   "language": "python",
   "name": "python3"
  },
  "language_info": {
   "codemirror_mode": {
    "name": "ipython",
    "version": 3
   },
   "file_extension": ".py",
   "mimetype": "text/x-python",
   "name": "python",
   "nbconvert_exporter": "python",
   "pygments_lexer": "ipython3",
   "version": "3.8.5"
  }
 },
 "nbformat": 4,
 "nbformat_minor": 4
}
